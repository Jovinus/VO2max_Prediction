{
 "metadata": {
  "language_info": {
   "codemirror_mode": {
    "name": "ipython",
    "version": 3
   },
   "file_extension": ".py",
   "mimetype": "text/x-python",
   "name": "python",
   "nbconvert_exporter": "python",
   "pygments_lexer": "ipython3",
   "version": "3.8.5"
  },
  "orig_nbformat": 2,
  "kernelspec": {
   "name": "python3",
   "display_name": "Python 3.8.5 64-bit ('VO2max': conda)"
  },
  "interpreter": {
   "hash": "8a351bbb2deb3e2a19e5d2886f2a6d51a03d0026491cf28eb575bde253f93440"
  }
 },
 "nbformat": 4,
 "nbformat_minor": 2,
 "cells": [
  {
   "cell_type": "code",
   "execution_count": 1,
   "metadata": {},
   "outputs": [
    {
     "output_type": "display_data",
     "data": {
      "text/plain": "<IPython.core.display.HTML object>",
      "text/html": "<style type='text/css'>\n.datatable table.frame { margin-bottom: 0; }\n.datatable table.frame thead { border-bottom: none; }\n.datatable table.frame tr.coltypes td {  color: #FFFFFF;  line-height: 6px;  padding: 0 0.5em;}\n.datatable .bool    { background: #DDDD99; }\n.datatable .object  { background: #565656; }\n.datatable .int     { background: #5D9E5D; }\n.datatable .float   { background: #4040CC; }\n.datatable .str     { background: #CC4040; }\n.datatable .row_index {  background: var(--jp-border-color3);  border-right: 1px solid var(--jp-border-color0);  color: var(--jp-ui-font-color3);  font-size: 9px;}\n.datatable .frame tr.coltypes .row_index {  background: var(--jp-border-color0);}\n.datatable th:nth-child(2) { padding-left: 12px; }\n.datatable .hellipsis {  color: var(--jp-cell-editor-border-color);}\n.datatable .vellipsis {  background: var(--jp-layout-color0);  color: var(--jp-cell-editor-border-color);}\n.datatable .na {  color: var(--jp-cell-editor-border-color);  font-size: 80%;}\n.datatable .footer { font-size: 9px; }\n.datatable .frame_dimensions {  background: var(--jp-border-color3);  border-top: 1px solid var(--jp-border-color0);  color: var(--jp-ui-font-color3);  display: inline-block;  opacity: 0.6;  padding: 1px 10px 1px 5px;}\n</style>\n"
     },
     "metadata": {}
    }
   ],
   "source": [
    "# %% import package to use\n",
    "import datatable\n",
    "import pandas as pd\n",
    "from IPython.display import display\n",
    "import numpy as np\n",
    "import os\n",
    "from sklearn.metrics import r2_score\n",
    "from sklearn.metrics import mean_squared_error\n",
    "import xgboost as xgb\n",
    "pd.set_option('display.max_columns', None)"
   ]
  },
  {
   "cell_type": "code",
   "execution_count": 2,
   "metadata": {},
   "outputs": [],
   "source": [
    "import pickle\n",
    "\n",
    "#### Linear Regression - MF\n",
    "with open('./grid_search/MF_results_press_r2_linear_reg.pickle', 'rb') as file_nm:\n",
    "    results = pickle.load(file_nm)\n",
    "    \n",
    "df_results_linear_mf = pd.DataFrame()\n",
    "for condition in results:\n",
    "    df_results_linear_mf = pd.concat((df_results_linear_mf, pd.DataFrame([results[condition]])), axis=0)\n",
    "\n",
    "#### Linear Regression - M\n",
    "with open('./grid_search/M_results_press_r2_linear_reg.pickle', 'rb') as file_nm:\n",
    "    results = pickle.load(file_nm)\n",
    "    \n",
    "df_results_linear_m = pd.DataFrame()\n",
    "for condition in results:\n",
    "    df_results_linear_m = pd.concat((df_results_linear_m, pd.DataFrame([results[condition]])), axis=0)\n",
    "\n",
    "#### Linear Regression - F\n",
    "with open('./grid_search/F_results_press_r2_linear_reg.pickle', 'rb') as file_nm:\n",
    "    results = pickle.load(file_nm)\n",
    "    \n",
    "df_results_linear_f = pd.DataFrame()\n",
    "for condition in results:\n",
    "    df_results_linear_f = pd.concat((df_results_linear_f, pd.DataFrame([results[condition]])), axis=0)\n"
   ]
  },
  {
   "cell_type": "code",
   "execution_count": 10,
   "metadata": {},
   "outputs": [
    {
     "output_type": "display_data",
     "data": {
      "text/plain": "   normalize        PRESS  Predicted R2\n0       True  8004.180212      0.450048\n0      False  8004.180212      0.450048",
      "text/html": "<div>\n<style scoped>\n    .dataframe tbody tr th:only-of-type {\n        vertical-align: middle;\n    }\n\n    .dataframe tbody tr th {\n        vertical-align: top;\n    }\n\n    .dataframe thead th {\n        text-align: right;\n    }\n</style>\n<table border=\"1\" class=\"dataframe\">\n  <thead>\n    <tr style=\"text-align: right;\">\n      <th></th>\n      <th>normalize</th>\n      <th>PRESS</th>\n      <th>Predicted R2</th>\n    </tr>\n  </thead>\n  <tbody>\n    <tr>\n      <th>0</th>\n      <td>True</td>\n      <td>8004.180212</td>\n      <td>0.450048</td>\n    </tr>\n    <tr>\n      <th>0</th>\n      <td>False</td>\n      <td>8004.180212</td>\n      <td>0.450048</td>\n    </tr>\n  </tbody>\n</table>\n</div>"
     },
     "metadata": {}
    },
    {
     "output_type": "display_data",
     "data": {
      "text/plain": "   normalize        PRESS  Predicted R2\n0       True  7143.825668      0.261117\n0      False  7143.825668      0.261117",
      "text/html": "<div>\n<style scoped>\n    .dataframe tbody tr th:only-of-type {\n        vertical-align: middle;\n    }\n\n    .dataframe tbody tr th {\n        vertical-align: top;\n    }\n\n    .dataframe thead th {\n        text-align: right;\n    }\n</style>\n<table border=\"1\" class=\"dataframe\">\n  <thead>\n    <tr style=\"text-align: right;\">\n      <th></th>\n      <th>normalize</th>\n      <th>PRESS</th>\n      <th>Predicted R2</th>\n    </tr>\n  </thead>\n  <tbody>\n    <tr>\n      <th>0</th>\n      <td>True</td>\n      <td>7143.825668</td>\n      <td>0.261117</td>\n    </tr>\n    <tr>\n      <th>0</th>\n      <td>False</td>\n      <td>7143.825668</td>\n      <td>0.261117</td>\n    </tr>\n  </tbody>\n</table>\n</div>"
     },
     "metadata": {}
    },
    {
     "output_type": "display_data",
     "data": {
      "text/plain": "   normalize       PRESS  Predicted R2\n0       True  840.987408      0.139742\n0      False  840.987408      0.139742",
      "text/html": "<div>\n<style scoped>\n    .dataframe tbody tr th:only-of-type {\n        vertical-align: middle;\n    }\n\n    .dataframe tbody tr th {\n        vertical-align: top;\n    }\n\n    .dataframe thead th {\n        text-align: right;\n    }\n</style>\n<table border=\"1\" class=\"dataframe\">\n  <thead>\n    <tr style=\"text-align: right;\">\n      <th></th>\n      <th>normalize</th>\n      <th>PRESS</th>\n      <th>Predicted R2</th>\n    </tr>\n  </thead>\n  <tbody>\n    <tr>\n      <th>0</th>\n      <td>True</td>\n      <td>840.987408</td>\n      <td>0.139742</td>\n    </tr>\n    <tr>\n      <th>0</th>\n      <td>False</td>\n      <td>840.987408</td>\n      <td>0.139742</td>\n    </tr>\n  </tbody>\n</table>\n</div>"
     },
     "metadata": {}
    }
   ],
   "source": [
    "display(df_results_linear_mf)\n",
    "display(df_results_linear_m)\n",
    "display(df_results_linear_f)"
   ]
  }
 ]
}